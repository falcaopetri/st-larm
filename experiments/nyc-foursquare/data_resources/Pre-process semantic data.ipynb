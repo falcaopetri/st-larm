{
 "cells": [
  {
   "cell_type": "code",
   "execution_count": 1,
   "metadata": {},
   "outputs": [],
   "source": [
    "import os, sys\n",
    "\n",
    "import pandas as pd\n",
    "\n",
    "STLARM_BASE_DIR = os.getenv('STLARM_BASE_DIR', '')\n",
    "sys.path.append(STLARM_BASE_DIR)\n",
    "\n",
    "from stlarm.utils import normalize_string_series"
   ]
  },
  {
   "cell_type": "markdown",
   "metadata": {},
   "source": [
    "## Venue's category taxonomy"
   ]
  },
  {
   "cell_type": "markdown",
   "metadata": {},
   "source": [
    "Create mapping from category's foursquare_id to category's root category name."
   ]
  },
  {
   "cell_type": "code",
   "execution_count": 2,
   "metadata": {},
   "outputs": [
    {
     "data": {
      "text/html": [
       "<div>\n",
       "<style scoped>\n",
       "    .dataframe tbody tr th:only-of-type {\n",
       "        vertical-align: middle;\n",
       "    }\n",
       "\n",
       "    .dataframe tbody tr th {\n",
       "        vertical-align: top;\n",
       "    }\n",
       "\n",
       "    .dataframe thead th {\n",
       "        text-align: right;\n",
       "    }\n",
       "</style>\n",
       "<table border=\"1\" class=\"dataframe\">\n",
       "  <thead>\n",
       "    <tr style=\"text-align: right;\">\n",
       "      <th></th>\n",
       "      <th>id</th>\n",
       "      <th>parent_category</th>\n",
       "      <th>foursquare_id</th>\n",
       "      <th>name</th>\n",
       "      <th>plural_name</th>\n",
       "      <th>short_name</th>\n",
       "      <th>root_category</th>\n",
       "    </tr>\n",
       "  </thead>\n",
       "  <tbody>\n",
       "    <tr>\n",
       "      <th>0</th>\n",
       "      <td>8</td>\n",
       "      <td>1.0</td>\n",
       "      <td>52e81612bcbc57f1066b79e7</td>\n",
       "      <td>Circus</td>\n",
       "      <td>Circuses</td>\n",
       "      <td>Circus</td>\n",
       "      <td>1</td>\n",
       "    </tr>\n",
       "    <tr>\n",
       "      <th>1</th>\n",
       "      <td>9</td>\n",
       "      <td>1.0</td>\n",
       "      <td>4bf58dd8d48988d18e941735</td>\n",
       "      <td>Comedy Club</td>\n",
       "      <td>Comedy Clubs</td>\n",
       "      <td>Comedy Club</td>\n",
       "      <td>1</td>\n",
       "    </tr>\n",
       "    <tr>\n",
       "      <th>2</th>\n",
       "      <td>10</td>\n",
       "      <td>1.0</td>\n",
       "      <td>5032792091d4c4b30a586d5c</td>\n",
       "      <td>Concert Hall</td>\n",
       "      <td>Concert Halls</td>\n",
       "      <td>Concert Hall</td>\n",
       "      <td>1</td>\n",
       "    </tr>\n",
       "    <tr>\n",
       "      <th>3</th>\n",
       "      <td>11</td>\n",
       "      <td>1.0</td>\n",
       "      <td>52e81612bcbc57f1066b79ef</td>\n",
       "      <td>Country Dance Club</td>\n",
       "      <td>Country Dance Clubs</td>\n",
       "      <td>Country Dance Club</td>\n",
       "      <td>1</td>\n",
       "    </tr>\n",
       "    <tr>\n",
       "      <th>4</th>\n",
       "      <td>12</td>\n",
       "      <td>1.0</td>\n",
       "      <td>52e81612bcbc57f1066b79e8</td>\n",
       "      <td>Disc Golf</td>\n",
       "      <td>Disc Golf Courses</td>\n",
       "      <td>Disc Golf</td>\n",
       "      <td>1</td>\n",
       "    </tr>\n",
       "  </tbody>\n",
       "</table>\n",
       "</div>"
      ],
      "text/plain": [
       "   id  parent_category             foursquare_id                name  \\\n",
       "0   8              1.0  52e81612bcbc57f1066b79e7              Circus   \n",
       "1   9              1.0  4bf58dd8d48988d18e941735         Comedy Club   \n",
       "2  10              1.0  5032792091d4c4b30a586d5c        Concert Hall   \n",
       "3  11              1.0  52e81612bcbc57f1066b79ef  Country Dance Club   \n",
       "4  12              1.0  52e81612bcbc57f1066b79e8           Disc Golf   \n",
       "\n",
       "           plural_name          short_name  root_category  \n",
       "0             Circuses              Circus              1  \n",
       "1         Comedy Clubs         Comedy Club              1  \n",
       "2        Concert Halls        Concert Hall              1  \n",
       "3  Country Dance Clubs  Country Dance Club              1  \n",
       "4    Disc Golf Courses           Disc Golf              1  "
      ]
     },
     "execution_count": 2,
     "metadata": {},
     "output_type": "execute_result"
    }
   ],
   "source": [
    "categories_df = pd.read_csv('fq_category.csv')\n",
    "categories_df.head()"
   ]
  },
  {
   "cell_type": "code",
   "execution_count": 3,
   "metadata": {},
   "outputs": [],
   "source": [
    "id_to_name = categories_df.set_index('id')['name'].to_dict()\n",
    "id_to_foursquare_id = categories_df.set_index('id')['foursquare_id'].to_dict()"
   ]
  },
  {
   "cell_type": "code",
   "execution_count": 4,
   "metadata": {},
   "outputs": [
    {
     "data": {
      "text/html": [
       "<div>\n",
       "<style scoped>\n",
       "    .dataframe tbody tr th:only-of-type {\n",
       "        vertical-align: middle;\n",
       "    }\n",
       "\n",
       "    .dataframe tbody tr th {\n",
       "        vertical-align: top;\n",
       "    }\n",
       "\n",
       "    .dataframe thead th {\n",
       "        text-align: right;\n",
       "    }\n",
       "</style>\n",
       "<table border=\"1\" class=\"dataframe\">\n",
       "  <thead>\n",
       "    <tr style=\"text-align: right;\">\n",
       "      <th></th>\n",
       "      <th>category_id</th>\n",
       "      <th>category_name</th>\n",
       "      <th>root_category_id</th>\n",
       "      <th>root_category_name</th>\n",
       "    </tr>\n",
       "  </thead>\n",
       "  <tbody>\n",
       "    <tr>\n",
       "      <th>0</th>\n",
       "      <td>52e81612bcbc57f1066b79e7</td>\n",
       "      <td>Circus</td>\n",
       "      <td>4d4b7104d754a06370d81259</td>\n",
       "      <td>Arts &amp; Entertainment</td>\n",
       "    </tr>\n",
       "    <tr>\n",
       "      <th>1</th>\n",
       "      <td>4bf58dd8d48988d18e941735</td>\n",
       "      <td>Comedy Club</td>\n",
       "      <td>4d4b7104d754a06370d81259</td>\n",
       "      <td>Arts &amp; Entertainment</td>\n",
       "    </tr>\n",
       "    <tr>\n",
       "      <th>2</th>\n",
       "      <td>5032792091d4c4b30a586d5c</td>\n",
       "      <td>Concert Hall</td>\n",
       "      <td>4d4b7104d754a06370d81259</td>\n",
       "      <td>Arts &amp; Entertainment</td>\n",
       "    </tr>\n",
       "    <tr>\n",
       "      <th>3</th>\n",
       "      <td>52e81612bcbc57f1066b79ef</td>\n",
       "      <td>Country Dance Club</td>\n",
       "      <td>4d4b7104d754a06370d81259</td>\n",
       "      <td>Arts &amp; Entertainment</td>\n",
       "    </tr>\n",
       "    <tr>\n",
       "      <th>4</th>\n",
       "      <td>52e81612bcbc57f1066b79e8</td>\n",
       "      <td>Disc Golf</td>\n",
       "      <td>4d4b7104d754a06370d81259</td>\n",
       "      <td>Arts &amp; Entertainment</td>\n",
       "    </tr>\n",
       "    <tr>\n",
       "      <th>...</th>\n",
       "      <td>...</td>\n",
       "      <td>...</td>\n",
       "      <td>...</td>\n",
       "      <td>...</td>\n",
       "    </tr>\n",
       "    <tr>\n",
       "      <th>915</th>\n",
       "      <td>4bf58dd8d48988d12a951735</td>\n",
       "      <td>Train</td>\n",
       "      <td>4d4b7105d754a06379d81259</td>\n",
       "      <td>Travel &amp; Transport</td>\n",
       "    </tr>\n",
       "    <tr>\n",
       "      <th>916</th>\n",
       "      <td>52f2ab2ebcbc57f1066b8b51</td>\n",
       "      <td>Tram Station</td>\n",
       "      <td>4d4b7105d754a06379d81259</td>\n",
       "      <td>Travel &amp; Transport</td>\n",
       "    </tr>\n",
       "    <tr>\n",
       "      <th>917</th>\n",
       "      <td>54541b70498ea6ccd0204bff</td>\n",
       "      <td>Transportation Service</td>\n",
       "      <td>4d4b7105d754a06379d81259</td>\n",
       "      <td>Travel &amp; Transport</td>\n",
       "    </tr>\n",
       "    <tr>\n",
       "      <th>918</th>\n",
       "      <td>4f04b25d2fb6e1c99f3db0c0</td>\n",
       "      <td>Travel Lounge</td>\n",
       "      <td>4d4b7105d754a06379d81259</td>\n",
       "      <td>Travel &amp; Transport</td>\n",
       "    </tr>\n",
       "    <tr>\n",
       "      <th>919</th>\n",
       "      <td>52f2ab2ebcbc57f1066b8b4a</td>\n",
       "      <td>Tunnel</td>\n",
       "      <td>4d4b7105d754a06379d81259</td>\n",
       "      <td>Travel &amp; Transport</td>\n",
       "    </tr>\n",
       "  </tbody>\n",
       "</table>\n",
       "<p>920 rows × 4 columns</p>\n",
       "</div>"
      ],
      "text/plain": [
       "                  category_id           category_name  \\\n",
       "0    52e81612bcbc57f1066b79e7                  Circus   \n",
       "1    4bf58dd8d48988d18e941735             Comedy Club   \n",
       "2    5032792091d4c4b30a586d5c            Concert Hall   \n",
       "3    52e81612bcbc57f1066b79ef      Country Dance Club   \n",
       "4    52e81612bcbc57f1066b79e8               Disc Golf   \n",
       "..                        ...                     ...   \n",
       "915  4bf58dd8d48988d12a951735                   Train   \n",
       "916  52f2ab2ebcbc57f1066b8b51            Tram Station   \n",
       "917  54541b70498ea6ccd0204bff  Transportation Service   \n",
       "918  4f04b25d2fb6e1c99f3db0c0           Travel Lounge   \n",
       "919  52f2ab2ebcbc57f1066b8b4a                  Tunnel   \n",
       "\n",
       "             root_category_id    root_category_name  \n",
       "0    4d4b7104d754a06370d81259  Arts & Entertainment  \n",
       "1    4d4b7104d754a06370d81259  Arts & Entertainment  \n",
       "2    4d4b7104d754a06370d81259  Arts & Entertainment  \n",
       "3    4d4b7104d754a06370d81259  Arts & Entertainment  \n",
       "4    4d4b7104d754a06370d81259  Arts & Entertainment  \n",
       "..                        ...                   ...  \n",
       "915  4d4b7105d754a06379d81259    Travel & Transport  \n",
       "916  4d4b7105d754a06379d81259    Travel & Transport  \n",
       "917  4d4b7105d754a06379d81259    Travel & Transport  \n",
       "918  4d4b7105d754a06379d81259    Travel & Transport  \n",
       "919  4d4b7105d754a06379d81259    Travel & Transport  \n",
       "\n",
       "[920 rows x 4 columns]"
      ]
     },
     "execution_count": 4,
     "metadata": {},
     "output_type": "execute_result"
    }
   ],
   "source": [
    "df = pd.concat([\n",
    "    categories_df['foursquare_id'],\n",
    "    categories_df['name'],\n",
    "    categories_df['root_category'].map(id_to_foursquare_id),\n",
    "    categories_df['root_category'].map(id_to_name)\n",
    "], axis=1)\n",
    "df.columns = ['category_id', 'category_name', 'root_category_id', 'root_category_name']\n",
    "df"
   ]
  },
  {
   "cell_type": "code",
   "execution_count": 5,
   "metadata": {},
   "outputs": [],
   "source": [
    "import json\n",
    "with open('category_id_to_root_category_name.json', 'w') as f:\n",
    "    json.dump(df.set_index('category_id')['root_category_name'].to_dict(), f)"
   ]
  },
  {
   "cell_type": "markdown",
   "metadata": {},
   "source": [
    "## Venue's data"
   ]
  },
  {
   "cell_type": "markdown",
   "metadata": {},
   "source": [
    "Create mapping from venue's foursquare_id to a custom venue's id based on its name."
   ]
  },
  {
   "cell_type": "code",
   "execution_count": 6,
   "metadata": {},
   "outputs": [
    {
     "data": {
      "text/html": [
       "<div>\n",
       "<style scoped>\n",
       "    .dataframe tbody tr th:only-of-type {\n",
       "        vertical-align: middle;\n",
       "    }\n",
       "\n",
       "    .dataframe tbody tr th {\n",
       "        vertical-align: top;\n",
       "    }\n",
       "\n",
       "    .dataframe thead th {\n",
       "        text-align: right;\n",
       "    }\n",
       "</style>\n",
       "<table border=\"1\" class=\"dataframe\">\n",
       "  <thead>\n",
       "    <tr style=\"text-align: right;\">\n",
       "      <th></th>\n",
       "      <th>foursquare_id</th>\n",
       "      <th>name</th>\n",
       "    </tr>\n",
       "  </thead>\n",
       "  <tbody>\n",
       "    <tr>\n",
       "      <th>0</th>\n",
       "      <td>4e5fce33b0fb754192cca549</td>\n",
       "      <td>Amtrak Waiting Area</td>\n",
       "    </tr>\n",
       "    <tr>\n",
       "      <th>1</th>\n",
       "      <td>4bec595cc43f2d7f3fc3dbd9</td>\n",
       "      <td>FedEx Office Print &amp; Ship Center</td>\n",
       "    </tr>\n",
       "    <tr>\n",
       "      <th>2</th>\n",
       "      <td>4a9d8a2df964a520703820e3</td>\n",
       "      <td>US Open Tennis Championships</td>\n",
       "    </tr>\n",
       "    <tr>\n",
       "      <th>3</th>\n",
       "      <td>4e67954f52b1ca65dc3778fd</td>\n",
       "      <td>BAK | Korean Kitchen &amp; Craft Beer</td>\n",
       "    </tr>\n",
       "    <tr>\n",
       "      <th>4</th>\n",
       "      <td>4b004499f964a520253c22e3</td>\n",
       "      <td>Target</td>\n",
       "    </tr>\n",
       "  </tbody>\n",
       "</table>\n",
       "</div>"
      ],
      "text/plain": [
       "              foursquare_id                               name\n",
       "0  4e5fce33b0fb754192cca549                Amtrak Waiting Area\n",
       "1  4bec595cc43f2d7f3fc3dbd9   FedEx Office Print & Ship Center\n",
       "2  4a9d8a2df964a520703820e3       US Open Tennis Championships\n",
       "3  4e67954f52b1ca65dc3778fd  BAK | Korean Kitchen & Craft Beer\n",
       "4  4b004499f964a520253c22e3                             Target"
      ]
     },
     "execution_count": 6,
     "metadata": {},
     "output_type": "execute_result"
    }
   ],
   "source": [
    "venues_df = pd.read_csv('fq_venue.csv', usecols=['foursquare_id', 'name']) # ignore other columns\n",
    "venues_df.head()"
   ]
  },
  {
   "cell_type": "code",
   "execution_count": 7,
   "metadata": {},
   "outputs": [
    {
     "name": "stdout",
     "output_type": "stream",
     "text": [
      "['ñ' 'ΖΩΗ & COTA' 'ΦIA Mu Chapter' 'ΦIA Omicron Chapter'\n",
      " 'ΦIA Sigma Chapter' 'Пельменный Цех'\n",
      " \"Пол'с Place \\uf1fa\\uf1f8\\uf1f7\\uf1fa\" '上海人家 Shanghai Family Dumpling'\n",
      " '冉 Ran Tea House' '天山羊莊小肥羊 Happy Family Hotpot Restaurant' '我的房间'\n",
      " '龍腾食坊 Wu Chinese Restaurant' '내 자신을 채찍질 하는 시간'\n",
      " '돼지쏜데이 (Pig Ssonday) (Pig Ssonday)' '불판' '사또통족발보쌈' '속편한내과' '주랑'\n",
      " '\\ue11dHeLL\\ue11d' '\\ue328 Home Sweet Home \\ue328']\n"
     ]
    }
   ],
   "source": [
    "# we have many non-ascii chars\n",
    "print(venues_df['name'].sort_values().unique()[-20:])"
   ]
  },
  {
   "cell_type": "markdown",
   "metadata": {},
   "source": [
    "#### Name pre-processing"
   ]
  },
  {
   "cell_type": "code",
   "execution_count": 8,
   "metadata": {},
   "outputs": [],
   "source": [
    "# remove non-ascii, special chars, and spaces \n",
    "venues_df['name'] = normalize_string_series(venues_df['name'])\n",
    "# add foursquare_id so we have unique names\n",
    "venues_df['name'] = venues_df['name'].str.cat(venues_df['foursquare_id'], sep='_')"
   ]
  },
  {
   "cell_type": "markdown",
   "metadata": {},
   "source": [
    "#### Save mapping"
   ]
  },
  {
   "cell_type": "code",
   "execution_count": 9,
   "metadata": {},
   "outputs": [],
   "source": [
    "import json\n",
    "with open('venue_id_to_name_id.json', 'w') as f:\n",
    "    json.dump(venues_df.set_index('foursquare_id')['name'].to_dict(), f)"
   ]
  }
 ],
 "metadata": {
  "kernelspec": {
   "display_name": "Python 3",
   "language": "python",
   "name": "python3"
  },
  "language_info": {
   "codemirror_mode": {
    "name": "ipython",
    "version": 3
   },
   "file_extension": ".py",
   "mimetype": "text/x-python",
   "name": "python",
   "nbconvert_exporter": "python",
   "pygments_lexer": "ipython3",
   "version": "3.8.3"
  }
 },
 "nbformat": 4,
 "nbformat_minor": 4
}
