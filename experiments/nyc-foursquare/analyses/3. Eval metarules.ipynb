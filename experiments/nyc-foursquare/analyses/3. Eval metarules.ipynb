{
 "cells": [
  {
   "cell_type": "code",
   "execution_count": 21,
   "metadata": {},
   "outputs": [],
   "source": [
    "import logging\n",
    "logging.basicConfig()\n",
    "logger = logging.getLogger(\"stlarm\")\n",
    "logger.setLevel(logging.DEBUG)\n",
    "\n",
    "from stlarm import analyzer\n",
    "from stlarm.metarule_viz import print_metarule"
   ]
  },
  {
   "cell_type": "code",
   "execution_count": 11,
   "metadata": {},
   "outputs": [],
   "source": [
    "import pandas as pd\n",
    "pd.set_option(\"display.max_colwidth\", None)"
   ]
  },
  {
   "cell_type": "code",
   "execution_count": 12,
   "metadata": {},
   "outputs": [],
   "source": [
    "RULES_FILE = \"../mining/mined_rules.tsv\"\n",
    "TRAIN_KB_FILE = \"../resources/converted_nyc_foursquare_period_2_2_None_filtered_triples.nt\""
   ]
  },
  {
   "cell_type": "code",
   "execution_count": 13,
   "metadata": {},
   "outputs": [
    {
     "name": "stderr",
     "output_type": "stream",
     "text": [
      "INFO:stlarm.analyzer:Loaded 459256 rules.\n",
      "INFO:stlarm.analyzer:Improving rules...\n",
      "INFO:stlarm.analyzer:Removing rules with unsorted reflexive relations...\n",
      "INFO:stlarm.analyzer:Removed 148294 rules with unsorted reflexive relations. 310962 rules will be used.\n",
      "DEBUG:stlarm.analyzer:Calling java -cp /home/jovyan/work/amie/amie3.jar amie.rules.eval.MetaruleBuilder /tmp/tmp8718j03x\n",
      "INFO:stlarm.analyzer:[Done] amie.rules.eval.MetaruleBuilder\n",
      "DEBUG:stlarm.analyzer:Building meta-rules lattice using amie.MetaruleBuilder took 58.41s.\n",
      "INFO:stlarm.analyzer:Added 'Metarule' column. There are 1329 metarules.\n"
     ]
    }
   ],
   "source": [
    "ra = analyzer.RulesAnalyzer(RULES_FILE, \n",
    "                            TRAIN_KB_FILE, \n",
    "                            remove_reflexive_duplicates=True, \n",
    "                            metarules=True)"
   ]
  },
  {
   "cell_type": "code",
   "execution_count": 14,
   "metadata": {},
   "outputs": [
    {
     "name": "stderr",
     "output_type": "stream",
     "text": [
      "DEBUG:stlarm.analyzer:Using AMIE_JAR_PATH /home/jovyan/work/amie/amie3.jar\n",
      "INFO:stlarm.analyzer:Loaded 211908 rules.\n",
      "DEBUG:stlarm.analyzer:Calling java -cp /home/jovyan/work/amie/amie3.jar amie.rules.eval.MetaruleBuilder /tmp/tmpw9wqnzvq\n",
      "INFO:stlarm.analyzer:[Done] amie.rules.eval.MetaruleBuilder\n",
      "DEBUG:stlarm.analyzer:Building meta-rules lattice using amie.MetaruleBuilder took 17.98s.\n",
      "INFO:stlarm.analyzer:Added 'Metarule' column. There are 370 metarules.\n"
     ]
    },
    {
     "name": "stdout",
     "output_type": "stream",
     "text": [
      "1329 370\n",
      "310962 211908\n"
     ]
    }
   ],
   "source": [
    "def get_rules_without_relation(df, relation):\n",
    "    return df[~df['Rule'].str.contains(relation, regex=False)]\n",
    "\n",
    "ra_no_before_df = get_rules_without_relation(ra._raw_df, 'before')\n",
    "ra_no_before = analyzer.RulesAnalyzer.from_analyzer(ra, ra_no_before_df, metarules=True)\n",
    "\n",
    "print(ra.df['Metarule'].nunique(),\n",
    "      ra_no_before.df['Metarule'].nunique())\n",
    "\n",
    "print(ra.df['Rule'].nunique(),\n",
    "      ra_no_before.df['Rule'].nunique())"
   ]
  },
  {
   "cell_type": "code",
   "execution_count": 470,
   "metadata": {},
   "outputs": [
    {
     "name": "stderr",
     "output_type": "stream",
     "text": [
      "DEBUG:stlarm.analyzer:Using AMIE_JAR_PATH /home/jovyan/work/amie/amie3.jar\n"
     ]
    }
   ],
   "source": [
    "import ipywidgets as widgets\n",
    "import sys\n",
    "from IPython.display import display\n",
    "from IPython.display import clear_output\n",
    "\n",
    "# https://github.com/jupyter-widgets/ipywidgets/issues/2487#issuecomment-510721436\n",
    "def create_multipleChoice_widget(df, idx, metarule, options_interesting, options_non_interesting):\n",
    "    alternatives_int = widgets.SelectMultiple(\n",
    "        options=options_interesting,\n",
    "        disabled = False,\n",
    "        description=\"Interesting labels\",\n",
    "        rows=len(options_interesting)\n",
    "    )\n",
    "    alternatives_non_int = widgets.SelectMultiple(\n",
    "        options=options_non_interesting,\n",
    "        disabled = False,\n",
    "        description=\"Non interesting labels\",\n",
    "        rows=len(options_non_interesting)\n",
    "    )\n",
    "    rule_description = widgets.Textarea(\n",
    "        value='',\n",
    "        placeholder='Example: shows that some users are more likely to checkin withinTimeWindow at places withinRadius',\n",
    "        description='Rule description:',\n",
    "        disabled=False,\n",
    "        layout={'width': '100%'}\n",
    "    )\n",
    "    \n",
    "    description_out = widgets.Output()\n",
    "    with description_out:\n",
    "        print('rule index:', idx)\n",
    "        print_metarule(df, metarule)\n",
    "        if metarule in annotation_results:\n",
    "            print(\"curr annotations:\", annotation_results[metarule])\n",
    "            alternatives_int.value = [x for x in options_interesting if x in annotation_results[metarule][0]]\n",
    "            alternatives_non_int.value = [x for x in options_non_interesting if x in annotation_results[metarule][0]]\n",
    "            rule_description.value = annotation_results[metarule][1]\n",
    "        \n",
    "    feedback_out = widgets.Output()\n",
    "\n",
    "    def save_selections(b):\n",
    "        with feedback_out:\n",
    "            clear_output()\n",
    "            marked = alternatives_int.value + alternatives_non_int.value\n",
    "            rule_desc = rule_description.value\n",
    "            print('saving: ')\n",
    "            print(metarule, 'is', marked, sep='\\n')\n",
    "            print('and means', rule_desc, sep='\\n')\n",
    "            annotation_results[metarule] = (marked, rule_desc)\n",
    "        return\n",
    "    \n",
    "    check = widgets.Button(description=\"save\")\n",
    "    check.on_click(save_selections)\n",
    "    \n",
    "    return widgets.VBox([description_out, widgets.HBox([alternatives_int, alternatives_non_int]), rule_description, check, feedback_out])"
   ]
  },
  {
   "cell_type": "code",
   "execution_count": 963,
   "metadata": {},
   "outputs": [
    {
     "name": "stderr",
     "output_type": "stream",
     "text": [
      "DEBUG:stlarm.analyzer:Using AMIE_JAR_PATH /home/jovyan/work/amie/amie3.jar\n"
     ]
    }
   ],
   "source": [
    "options_int = [\n",
    "    'potentially interesting',\n",
    "    'interesting', \n",
    "]\n",
    "options_non_int = [\n",
    "    'too general', # hasCheckin(?b, ?f), hasPOI(?l, CONST), withinTimeWindow(?f, ?l) => hasTrajectory(CONST2, ?b)\n",
    "    'different variables, but same binding', # hasCheckin(?a, ?n), hasCheckin(?g, ?n)\n",
    "    'describes the ontology itself', # hasCheckin(?a, ?h), withinRadius(?b, ?h) => hasCheckin(?a, ?b)\n",
    "    'indirect rule', # hasCheckin(?a, ?b), withinRadius(?b, ?c), hasTime(?c, Morning) => hasTrajectoryCategory(?a, Weekday)\n",
    "    'spurious correlations',\n",
    "    'other - uninteresting',\n",
    "    'other - should not be mined',\n",
    "]"
   ]
  },
  {
   "cell_type": "code",
   "execution_count": 964,
   "metadata": {},
   "outputs": [],
   "source": [
    "def display_rule(df, idx, metarules):\n",
    "    wid = create_multipleChoice_widget(df, idx, metarules[idx], options_int, options_non_int) \n",
    "    display(wid)"
   ]
  },
  {
   "cell_type": "code",
   "execution_count": 1437,
   "metadata": {},
   "outputs": [
    {
     "data": {
      "text/plain": [
       "(370, 370)"
      ]
     },
     "execution_count": 1437,
     "metadata": {},
     "output_type": "execute_result"
    }
   ],
   "source": [
    "_curr_rule_idx = 0\n",
    "std_sorted_metarules = ra_no_before.df.groupby('Metarule')['Std Confidence'].max().sort_values(ascending=False)\n",
    "#annotation_results = {}\n",
    "len(std_sorted_metarules), len(annotation_results)"
   ]
  },
  {
   "cell_type": "markdown",
   "metadata": {},
   "source": [
    "-------"
   ]
  },
  {
   "cell_type": "code",
   "execution_count": 1567,
   "metadata": {},
   "outputs": [
    {
     "ename": "IndexError",
     "evalue": "index 370 is out of bounds for axis 0 with size 370",
     "output_type": "error",
     "traceback": [
      "\u001b[0;31m---------------------------------------------------------------------------\u001b[0m",
      "\u001b[0;31mIndexError\u001b[0m                                Traceback (most recent call last)",
      "\u001b[0;32m<ipython-input-1567-6e450247f732>\u001b[0m in \u001b[0;36m<module>\u001b[0;34m\u001b[0m\n\u001b[0;32m----> 1\u001b[0;31m \u001b[0mdisplay_rule\u001b[0m\u001b[0;34m(\u001b[0m\u001b[0mra_no_before\u001b[0m\u001b[0;34m.\u001b[0m\u001b[0mdf\u001b[0m\u001b[0;34m,\u001b[0m \u001b[0m_curr_rule_idx\u001b[0m\u001b[0;34m,\u001b[0m \u001b[0mstd_sorted_metarules\u001b[0m\u001b[0;34m.\u001b[0m\u001b[0mindex\u001b[0m\u001b[0;34m)\u001b[0m\u001b[0;34m\u001b[0m\u001b[0;34m\u001b[0m\u001b[0m\n\u001b[0m\u001b[1;32m      2\u001b[0m \u001b[0m_curr_rule_idx\u001b[0m \u001b[0;34m+=\u001b[0m \u001b[0;36m1\u001b[0m\u001b[0;34m\u001b[0m\u001b[0;34m\u001b[0m\u001b[0m\n\u001b[1;32m      3\u001b[0m \u001b[0mlen\u001b[0m\u001b[0;34m(\u001b[0m\u001b[0mannotation_results\u001b[0m\u001b[0;34m)\u001b[0m\u001b[0;34m,\u001b[0m \u001b[0m_curr_rule_idx\u001b[0m\u001b[0;34m-\u001b[0m\u001b[0;36m1\u001b[0m\u001b[0;34m\u001b[0m\u001b[0;34m\u001b[0m\u001b[0m\n",
      "\u001b[0;32m<ipython-input-964-1e48ed5e3486>\u001b[0m in \u001b[0;36mdisplay_rule\u001b[0;34m(df, idx, metarules)\u001b[0m\n\u001b[1;32m      1\u001b[0m \u001b[0;32mdef\u001b[0m \u001b[0mdisplay_rule\u001b[0m\u001b[0;34m(\u001b[0m\u001b[0mdf\u001b[0m\u001b[0;34m,\u001b[0m \u001b[0midx\u001b[0m\u001b[0;34m,\u001b[0m \u001b[0mmetarules\u001b[0m\u001b[0;34m)\u001b[0m\u001b[0;34m:\u001b[0m\u001b[0;34m\u001b[0m\u001b[0;34m\u001b[0m\u001b[0m\n\u001b[0;32m----> 2\u001b[0;31m     \u001b[0mwid\u001b[0m \u001b[0;34m=\u001b[0m \u001b[0mcreate_multipleChoice_widget\u001b[0m\u001b[0;34m(\u001b[0m\u001b[0mdf\u001b[0m\u001b[0;34m,\u001b[0m \u001b[0midx\u001b[0m\u001b[0;34m,\u001b[0m \u001b[0mmetarules\u001b[0m\u001b[0;34m[\u001b[0m\u001b[0midx\u001b[0m\u001b[0;34m]\u001b[0m\u001b[0;34m,\u001b[0m \u001b[0moptions_int\u001b[0m\u001b[0;34m,\u001b[0m \u001b[0moptions_non_int\u001b[0m\u001b[0;34m)\u001b[0m\u001b[0;34m\u001b[0m\u001b[0;34m\u001b[0m\u001b[0m\n\u001b[0m\u001b[1;32m      3\u001b[0m     \u001b[0mdisplay\u001b[0m\u001b[0;34m(\u001b[0m\u001b[0mwid\u001b[0m\u001b[0;34m)\u001b[0m\u001b[0;34m\u001b[0m\u001b[0;34m\u001b[0m\u001b[0m\n",
      "\u001b[0;32m/opt/conda/lib/python3.8/site-packages/pandas/core/indexes/base.py\u001b[0m in \u001b[0;36m__getitem__\u001b[0;34m(self, key)\u001b[0m\n\u001b[1;32m   3928\u001b[0m         \u001b[0;32mif\u001b[0m \u001b[0mis_scalar\u001b[0m\u001b[0;34m(\u001b[0m\u001b[0mkey\u001b[0m\u001b[0;34m)\u001b[0m\u001b[0;34m:\u001b[0m\u001b[0;34m\u001b[0m\u001b[0;34m\u001b[0m\u001b[0m\n\u001b[1;32m   3929\u001b[0m             \u001b[0mkey\u001b[0m \u001b[0;34m=\u001b[0m \u001b[0mcom\u001b[0m\u001b[0;34m.\u001b[0m\u001b[0mcast_scalar_indexer\u001b[0m\u001b[0;34m(\u001b[0m\u001b[0mkey\u001b[0m\u001b[0;34m)\u001b[0m\u001b[0;34m\u001b[0m\u001b[0;34m\u001b[0m\u001b[0m\n\u001b[0;32m-> 3930\u001b[0;31m             \u001b[0;32mreturn\u001b[0m \u001b[0mgetitem\u001b[0m\u001b[0;34m(\u001b[0m\u001b[0mkey\u001b[0m\u001b[0;34m)\u001b[0m\u001b[0;34m\u001b[0m\u001b[0;34m\u001b[0m\u001b[0m\n\u001b[0m\u001b[1;32m   3931\u001b[0m \u001b[0;34m\u001b[0m\u001b[0m\n\u001b[1;32m   3932\u001b[0m         \u001b[0;32mif\u001b[0m \u001b[0misinstance\u001b[0m\u001b[0;34m(\u001b[0m\u001b[0mkey\u001b[0m\u001b[0;34m,\u001b[0m \u001b[0mslice\u001b[0m\u001b[0;34m)\u001b[0m\u001b[0;34m:\u001b[0m\u001b[0;34m\u001b[0m\u001b[0;34m\u001b[0m\u001b[0m\n",
      "\u001b[0;31mIndexError\u001b[0m: index 370 is out of bounds for axis 0 with size 370"
     ]
    }
   ],
   "source": [
    "display_rule(ra_no_before.df, _curr_rule_idx, std_sorted_metarules.index)\n",
    "_curr_rule_idx += 1\n",
    "len(annotation_results), _curr_rule_idx-1"
   ]
  },
  {
   "cell_type": "code",
   "execution_count": 1312,
   "metadata": {},
   "outputs": [],
   "source": [
    "#print_metarule(ra_no_before.df, std_sorted_metarules.index[_curr_rule_idx-2])"
   ]
  },
  {
   "cell_type": "markdown",
   "metadata": {},
   "source": [
    "-------------------------------------"
   ]
  },
  {
   "cell_type": "code",
   "execution_count": 1572,
   "metadata": {},
   "outputs": [
    {
     "data": {
      "text/html": [
       "<div>\n",
       "<style scoped>\n",
       "    .dataframe tbody tr th:only-of-type {\n",
       "        vertical-align: middle;\n",
       "    }\n",
       "\n",
       "    .dataframe tbody tr th {\n",
       "        vertical-align: top;\n",
       "    }\n",
       "\n",
       "    .dataframe thead th {\n",
       "        text-align: right;\n",
       "    }\n",
       "</style>\n",
       "<table border=\"1\" class=\"dataframe\">\n",
       "  <thead>\n",
       "    <tr style=\"text-align: right;\">\n",
       "      <th></th>\n",
       "      <th>Metarule</th>\n",
       "      <th>desc</th>\n",
       "      <th>describes the ontology itself</th>\n",
       "      <th>different variables, but same binding</th>\n",
       "      <th>indirect rule</th>\n",
       "      <th>interesting</th>\n",
       "      <th>other - uninteresting</th>\n",
       "      <th>potentially interesting</th>\n",
       "      <th>spurious correlations</th>\n",
       "      <th>too general</th>\n",
       "    </tr>\n",
       "  </thead>\n",
       "  <tbody>\n",
       "    <tr>\n",
       "      <th>0</th>\n",
       "      <td>?a  &lt;hasCheckin&gt;  ?n  ?g  &lt;hasCheckin&gt;  ?n  ?g  &lt;hasMonth&gt;  ?b   =&gt; ?a  &lt;hasMonth&gt;  ?b</td>\n",
       "      <td></td>\n",
       "      <td>0</td>\n",
       "      <td>1</td>\n",
       "      <td>0</td>\n",
       "      <td>0</td>\n",
       "      <td>0</td>\n",
       "      <td>0</td>\n",
       "      <td>0</td>\n",
       "      <td>0</td>\n",
       "    </tr>\n",
       "    <tr>\n",
       "      <th>1</th>\n",
       "      <td>?e  &lt;hasCheckin&gt;  ?a  ?e  &lt;hasCheckin&gt;  ?l  ?l  &lt;hasPOI&gt;  ?z0   =&gt; ?a  &lt;hasTime&gt;  ?z1</td>\n",
       "      <td></td>\n",
       "      <td>0</td>\n",
       "      <td>0</td>\n",
       "      <td>0</td>\n",
       "      <td>0</td>\n",
       "      <td>0</td>\n",
       "      <td>0</td>\n",
       "      <td>0</td>\n",
       "      <td>1</td>\n",
       "    </tr>\n",
       "    <tr>\n",
       "      <th>2</th>\n",
       "      <td>?g  &lt;hasPOI&gt;  ?z0  ?g  &lt;hasTime&gt;  ?b  ?a  &lt;withinTimeWindow&gt;  ?g   =&gt; ?a  &lt;hasTime&gt;  ?b</td>\n",
       "      <td></td>\n",
       "      <td>0</td>\n",
       "      <td>0</td>\n",
       "      <td>0</td>\n",
       "      <td>0</td>\n",
       "      <td>0</td>\n",
       "      <td>0</td>\n",
       "      <td>0</td>\n",
       "      <td>1</td>\n",
       "    </tr>\n",
       "    <tr>\n",
       "      <th>3</th>\n",
       "      <td>?l  &lt;hasPOI&gt;  ?z0  ?a  &lt;withinTimeWindow&gt;  ?f  ?f  &lt;withinTimeWindow&gt;  ?l   =&gt; ?a  &lt;hasTime&gt;  ?z1</td>\n",
       "      <td></td>\n",
       "      <td>0</td>\n",
       "      <td>0</td>\n",
       "      <td>0</td>\n",
       "      <td>0</td>\n",
       "      <td>0</td>\n",
       "      <td>0</td>\n",
       "      <td>0</td>\n",
       "      <td>1</td>\n",
       "    </tr>\n",
       "    <tr>\n",
       "      <th>4</th>\n",
       "      <td>?a  &lt;hasCheckin&gt;  ?f  ?f  &lt;hasPOI&gt;  ?z0  ?f  &lt;hasTime&gt;  ?z1   =&gt; ?a  &lt;hasTrajectoryCategory&gt;  ?z2</td>\n",
       "      <td></td>\n",
       "      <td>0</td>\n",
       "      <td>0</td>\n",
       "      <td>0</td>\n",
       "      <td>1</td>\n",
       "      <td>0</td>\n",
       "      <td>0</td>\n",
       "      <td>0</td>\n",
       "      <td>0</td>\n",
       "    </tr>\n",
       "  </tbody>\n",
       "</table>\n",
       "</div>"
      ],
      "text/plain": [
       "                                                                                            Metarule  \\\n",
       "0             ?a  <hasCheckin>  ?n  ?g  <hasCheckin>  ?n  ?g  <hasMonth>  ?b   => ?a  <hasMonth>  ?b   \n",
       "1              ?e  <hasCheckin>  ?a  ?e  <hasCheckin>  ?l  ?l  <hasPOI>  ?z0   => ?a  <hasTime>  ?z1   \n",
       "2            ?g  <hasPOI>  ?z0  ?g  <hasTime>  ?b  ?a  <withinTimeWindow>  ?g   => ?a  <hasTime>  ?b   \n",
       "3  ?l  <hasPOI>  ?z0  ?a  <withinTimeWindow>  ?f  ?f  <withinTimeWindow>  ?l   => ?a  <hasTime>  ?z1   \n",
       "4  ?a  <hasCheckin>  ?f  ?f  <hasPOI>  ?z0  ?f  <hasTime>  ?z1   => ?a  <hasTrajectoryCategory>  ?z2   \n",
       "\n",
       "  desc  describes the ontology itself  different variables, but same binding  \\\n",
       "0                                   0                                      1   \n",
       "1                                   0                                      0   \n",
       "2                                   0                                      0   \n",
       "3                                   0                                      0   \n",
       "4                                   0                                      0   \n",
       "\n",
       "   indirect rule  interesting  other - uninteresting  potentially interesting  \\\n",
       "0              0            0                      0                        0   \n",
       "1              0            0                      0                        0   \n",
       "2              0            0                      0                        0   \n",
       "3              0            0                      0                        0   \n",
       "4              0            1                      0                        0   \n",
       "\n",
       "   spurious correlations  too general  \n",
       "0                      0            0  \n",
       "1                      0            1  \n",
       "2                      0            1  \n",
       "3                      0            1  \n",
       "4                      0            0  "
      ]
     },
     "execution_count": 1572,
     "metadata": {},
     "output_type": "execute_result"
    }
   ],
   "source": [
    "annotations_df = pd.DataFrame.from_dict(annotation_results, 'index', columns=['label', 'desc'])\n",
    "annotations_df = annotations_df.drop(columns='label').join(annotations_df['label'].str.join('|').str.get_dummies())\n",
    "annotations_df = annotations_df.reset_index().rename(columns={'index': 'Metarule'})\n",
    "annotations_df.head()"
   ]
  },
  {
   "cell_type": "code",
   "execution_count": null,
   "metadata": {},
   "outputs": [],
   "source": [
    "annotations_df.to_csv('rules_manual_eval.csv')"
   ]
  },
  {
   "cell_type": "code",
   "execution_count": 1575,
   "metadata": {},
   "outputs": [
    {
     "data": {
      "text/plain": [
       "([34, 117, 131, 71, 17], 370, 370)"
      ]
     },
     "execution_count": 1575,
     "metadata": {},
     "output_type": "execute_result"
    }
   ],
   "source": [
    "import numpy as np\n",
    "def rule_is(df, columns):\n",
    "    # https://stackoverflow.com/a/57822942\n",
    "    if not isinstance(columns, list):\n",
    "        columns = [columns]\n",
    "    return df[np.logical_or.reduce([\n",
    "            df[column] == 1\n",
    "            for column in columns\n",
    "        ])\n",
    "    ]\n",
    "\n",
    "def df_diff(df1, others):\n",
    "    idxs = df1.index\n",
    "    for other in others:\n",
    "        idxs = idxs.difference(other.index)\n",
    "    return df1.loc[idxs]\n",
    "\n",
    "should_not_happen = rule_is(annotations_df, ['different variables, but same binding', \n",
    "                                'indirect rule',\n",
    "                               'other - should not be mined'\n",
    "                               ])\n",
    "not_interesting = rule_is(df_diff(annotations_df, [should_not_happen]), ['spurious correlations', 'describes the ontology itself', 'other - uninteresting'])\n",
    "too_general = rule_is(df_diff(annotations_df, [not_interesting, should_not_happen]), ['too general'])\n",
    "\n",
    "more_or_less = rule_is(df_diff(annotations_df, [not_interesting, should_not_happen, too_general]), 'potentially interesting')\n",
    "interesting = rule_is(df_diff(annotations_df, [not_interesting, should_not_happen, too_general, more_or_less]), 'interesting')\n",
    "\n",
    "\n",
    "categories = [interesting, more_or_less, too_general, not_interesting, should_not_happen]\n",
    "[len(x) for x in categories], sum([len(x) for x in categories]), len(annotations_df)"
   ]
  },
  {
   "cell_type": "code",
   "execution_count": 1577,
   "metadata": {},
   "outputs": [
    {
     "data": {
      "text/html": [
       "<div>\n",
       "<style scoped>\n",
       "    .dataframe tbody tr th:only-of-type {\n",
       "        vertical-align: middle;\n",
       "    }\n",
       "\n",
       "    .dataframe tbody tr th {\n",
       "        vertical-align: top;\n",
       "    }\n",
       "\n",
       "    .dataframe thead th {\n",
       "        text-align: right;\n",
       "    }\n",
       "</style>\n",
       "<table border=\"1\" class=\"dataframe\">\n",
       "  <thead>\n",
       "    <tr style=\"text-align: right;\">\n",
       "      <th></th>\n",
       "      <th>classification</th>\n",
       "    </tr>\n",
       "    <tr>\n",
       "      <th>Metarule</th>\n",
       "      <th></th>\n",
       "    </tr>\n",
       "  </thead>\n",
       "  <tbody>\n",
       "    <tr>\n",
       "      <th>?a  &lt;hasCheckin&gt;  ?n  ?g  &lt;hasCheckin&gt;  ?n  ?g  &lt;hasMonth&gt;  ?b   =&gt; ?a  &lt;hasMonth&gt;  ?b</th>\n",
       "      <td>should not happen</td>\n",
       "    </tr>\n",
       "    <tr>\n",
       "      <th>?e  &lt;hasCheckin&gt;  ?a  ?e  &lt;hasCheckin&gt;  ?l  ?l  &lt;hasPOI&gt;  ?z0   =&gt; ?a  &lt;hasTime&gt;  ?z1</th>\n",
       "      <td>too general</td>\n",
       "    </tr>\n",
       "    <tr>\n",
       "      <th>?g  &lt;hasPOI&gt;  ?z0  ?g  &lt;hasTime&gt;  ?b  ?a  &lt;withinTimeWindow&gt;  ?g   =&gt; ?a  &lt;hasTime&gt;  ?b</th>\n",
       "      <td>too general</td>\n",
       "    </tr>\n",
       "    <tr>\n",
       "      <th>?l  &lt;hasPOI&gt;  ?z0  ?a  &lt;withinTimeWindow&gt;  ?f  ?f  &lt;withinTimeWindow&gt;  ?l   =&gt; ?a  &lt;hasTime&gt;  ?z1</th>\n",
       "      <td>too general</td>\n",
       "    </tr>\n",
       "    <tr>\n",
       "      <th>?a  &lt;hasCheckin&gt;  ?f  ?f  &lt;hasPOI&gt;  ?z0  ?f  &lt;hasTime&gt;  ?z1   =&gt; ?a  &lt;hasTrajectoryCategory&gt;  ?z2</th>\n",
       "      <td>interesting</td>\n",
       "    </tr>\n",
       "  </tbody>\n",
       "</table>\n",
       "</div>"
      ],
      "text/plain": [
       "                                                                                                      classification\n",
       "Metarule                                                                                                            \n",
       "?a  <hasCheckin>  ?n  ?g  <hasCheckin>  ?n  ?g  <hasMonth>  ?b   => ?a  <hasMonth>  ?b             should not happen\n",
       "?e  <hasCheckin>  ?a  ?e  <hasCheckin>  ?l  ?l  <hasPOI>  ?z0   => ?a  <hasTime>  ?z1                    too general\n",
       "?g  <hasPOI>  ?z0  ?g  <hasTime>  ?b  ?a  <withinTimeWindow>  ?g   => ?a  <hasTime>  ?b                  too general\n",
       "?l  <hasPOI>  ?z0  ?a  <withinTimeWindow>  ?f  ?f  <withinTimeWindow>  ?l   => ?a  <hasTime>  ?z1        too general\n",
       "?a  <hasCheckin>  ?f  ?f  <hasPOI>  ?z0  ?f  <hasTime>  ?z1   => ?a  <hasTrajectoryCategory>  ?z2        interesting"
      ]
     },
     "execution_count": 1577,
     "metadata": {},
     "output_type": "execute_result"
    }
   ],
   "source": [
    "label_names = ['interesting', 'more or less', 'too general', 'uninteresting', 'should not happen']\n",
    "labels = pd.DataFrame(False, index=x['Metarule'], columns=['classification'])\n",
    "\n",
    "for lbl, cat in zip(label_names, categories):\n",
    "    labels.loc[cat['Metarule']] = lbl\n",
    "labels.head()"
   ]
  },
  {
   "cell_type": "code",
   "execution_count": 1580,
   "metadata": {},
   "outputs": [
    {
     "data": {
      "text/plain": [
       "too general          131\n",
       "more or less         117\n",
       "uninteresting         71\n",
       "interesting           34\n",
       "should not happen     17\n",
       "Name: classification, dtype: int64"
      ]
     },
     "execution_count": 1580,
     "metadata": {},
     "output_type": "execute_result"
    }
   ],
   "source": [
    "labels['classification'].value_counts()"
   ]
  },
  {
   "cell_type": "code",
   "execution_count": 1578,
   "metadata": {},
   "outputs": [],
   "source": [
    "labels.to_csv('labeled_metarules.csv')"
   ]
  }
 ],
 "metadata": {
  "kernelspec": {
   "display_name": "Python 3",
   "language": "python",
   "name": "python3"
  },
  "language_info": {
   "codemirror_mode": {
    "name": "ipython",
    "version": 3
   },
   "file_extension": ".py",
   "mimetype": "text/x-python",
   "name": "python",
   "nbconvert_exporter": "python",
   "pygments_lexer": "ipython3",
   "version": "3.8.3"
  }
 },
 "nbformat": 4,
 "nbformat_minor": 4
}
