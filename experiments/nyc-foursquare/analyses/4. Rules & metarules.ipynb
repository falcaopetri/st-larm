{
 "cells": [
  {
   "cell_type": "code",
   "execution_count": 1,
   "metadata": {},
   "outputs": [
    {
     "name": "stderr",
     "output_type": "stream",
     "text": [
      "DEBUG:stlarm.analyzer:Using AMIE_JAR_PATH /home/jovyan/work/amie/bin/amie3.jar\n"
     ]
    }
   ],
   "source": [
    "import logging\n",
    "logging.basicConfig()\n",
    "logger = logging.getLogger(\"stlarm\")\n",
    "logger.setLevel(logging.DEBUG)\n",
    "\n",
    "from stlarm import analyzer"
   ]
  },
  {
   "cell_type": "code",
   "execution_count": 2,
   "metadata": {},
   "outputs": [],
   "source": [
    "import pandas as pd\n",
    "pd.set_option(\"display.max_colwidth\", None)"
   ]
  },
  {
   "cell_type": "code",
   "execution_count": 3,
   "metadata": {},
   "outputs": [],
   "source": [
    "RULES_FILE = \"../mining/mined_rules.tsv\"\n",
    "TRAIN_KB_FILE = \"../resources/converted_nyc_foursquare_period_2_2_None_filtered_triples.nt\""
   ]
  },
  {
   "cell_type": "code",
   "execution_count": 4,
   "metadata": {},
   "outputs": [
    {
     "name": "stderr",
     "output_type": "stream",
     "text": [
      "INFO:stlarm.analyzer:Loaded 459256 rules.\n",
      "INFO:stlarm.analyzer:Improving rules...\n",
      "INFO:stlarm.analyzer:Removing rules with unsorted reflexive relations...\n",
      "INFO:stlarm.analyzer:Removed 148294 rules with unsorted reflexive relations. 310962 rules will be used.\n",
      "DEBUG:stlarm.analyzer:Calling java -cp /home/jovyan/work/amie/bin/amie3.jar amie.rules.eval.MetaruleBuilder /tmp/tmptvvganh8\n",
      "INFO:stlarm.analyzer:[Done] amie.rules.eval.MetaruleBuilder\n",
      "DEBUG:stlarm.analyzer:Building meta-rules lattice using amie.MetaruleBuilder took 94.18s.\n",
      "INFO:stlarm.analyzer:Added 'Metarule' column. There are 1329 metarules.\n"
     ]
    }
   ],
   "source": [
    "ra = analyzer.RulesAnalyzer(RULES_FILE, \n",
    "                            TRAIN_KB_FILE,\n",
    "                            remove_reflexive_duplicates=True, \n",
    "                            metarules=True)"
   ]
  },
  {
   "cell_type": "code",
   "execution_count": 5,
   "metadata": {},
   "outputs": [
    {
     "name": "stderr",
     "output_type": "stream",
     "text": [
      "INFO:stlarm.analyzer:Loaded 211908 rules.\n",
      "DEBUG:stlarm.analyzer:Calling java -cp /home/jovyan/work/amie/bin/amie3.jar amie.rules.eval.MetaruleBuilder /tmp/tmpcv9xkfwk\n",
      "INFO:stlarm.analyzer:[Done] amie.rules.eval.MetaruleBuilder\n",
      "DEBUG:stlarm.analyzer:Building meta-rules lattice using amie.MetaruleBuilder took 27.21s.\n",
      "INFO:stlarm.analyzer:Added 'Metarule' column. There are 370 metarules.\n",
      "INFO:stlarm.analyzer:Loaded 232438 rules.\n",
      "DEBUG:stlarm.analyzer:Calling java -cp /home/jovyan/work/amie/bin/amie3.jar amie.rules.eval.MetaruleBuilder /tmp/tmpj0_yxffj\n",
      "INFO:stlarm.analyzer:[Done] amie.rules.eval.MetaruleBuilder\n",
      "DEBUG:stlarm.analyzer:Building meta-rules lattice using amie.MetaruleBuilder took 46.36s.\n",
      "INFO:stlarm.analyzer:Added 'Metarule' column. There are 571 metarules.\n",
      "INFO:stlarm.analyzer:Loaded 231981 rules.\n",
      "DEBUG:stlarm.analyzer:Calling java -cp /home/jovyan/work/amie/bin/amie3.jar amie.rules.eval.MetaruleBuilder /tmp/tmplpgg6kcj\n",
      "INFO:stlarm.analyzer:[Done] amie.rules.eval.MetaruleBuilder\n",
      "DEBUG:stlarm.analyzer:Building meta-rules lattice using amie.MetaruleBuilder took 35.76s.\n",
      "INFO:stlarm.analyzer:Added 'Metarule' column. There are 559 metarules.\n"
     ]
    },
    {
     "name": "stdout",
     "output_type": "stream",
     "text": [
      "1329 370 571 559\n",
      "310962 211908 232438 231981\n"
     ]
    }
   ],
   "source": [
    "def get_rules_without_relation(df, relation):\n",
    "    return df[~df['Rule'].str.contains(relation, regex=False)]\n",
    "\n",
    "ra_no_before_df = get_rules_without_relation(ra._raw_df, 'before')\n",
    "ra_no_before = analyzer.RulesAnalyzer.from_analyzer(ra, ra_no_before_df, metarules=True)\n",
    "ra_no_withinTimeWindow_df = get_rules_without_relation(ra._raw_df, 'withinTimeWindow')\n",
    "ra_no_withinTimeWindow = analyzer.RulesAnalyzer.from_analyzer(ra, ra_no_withinTimeWindow_df, metarules=True)\n",
    "ra_no_withinRadius_df = get_rules_without_relation(ra._raw_df, 'withinRadius')\n",
    "ra_no_withinRadius = analyzer.RulesAnalyzer.from_analyzer(ra, ra_no_withinRadius_df, metarules=True)\n",
    "\n",
    "print(ra.df['Metarule'].nunique(),\n",
    "      ra_no_before.df['Metarule'].nunique(),\n",
    "      ra_no_withinTimeWindow.df['Metarule'].nunique(),\n",
    "      ra_no_withinRadius.df['Metarule'].nunique())\n",
    "\n",
    "print(ra.df['Rule'].nunique(),\n",
    "      ra_no_before.df['Rule'].nunique(),\n",
    "      ra_no_withinTimeWindow.df['Rule'].nunique(),\n",
    "      ra_no_withinRadius.df['Rule'].nunique())"
   ]
  },
  {
   "cell_type": "code",
   "execution_count": 6,
   "metadata": {},
   "outputs": [
    {
     "name": "stderr",
     "output_type": "stream",
     "text": [
      "INFO:stlarm.analyzer:Loaded 211908 rules.\n",
      "DEBUG:stlarm.analyzer:Calling java -cp /home/jovyan/work/amie/bin/amie3.jar amie.rules.eval.MetaruleBuilder /tmp/tmpiszaufrp\n",
      "INFO:stlarm.analyzer:[Done] amie.rules.eval.MetaruleBuilder\n",
      "DEBUG:stlarm.analyzer:Building meta-rules lattice using amie.MetaruleBuilder took 26.16s.\n",
      "INFO:stlarm.analyzer:Added 'Metarule' column. There are 370 metarules.\n"
     ]
    }
   ],
   "source": [
    "ra_no_before = analyzer.RulesAnalyzer.from_analyzer(ra, ra_no_before_df, \n",
    "                                                    metarules_class_file='labeled_metarules.csv', \n",
    "                                                    metarules=True)"
   ]
  },
  {
   "cell_type": "code",
   "execution_count": 9,
   "metadata": {},
   "outputs": [],
   "source": [
    "ra_no_before.df.to_csv(\"analyzed_rules_df.csv\", index=False)"
   ]
  },
  {
   "cell_type": "code",
   "execution_count": 8,
   "metadata": {},
   "outputs": [
    {
     "data": {
      "text/html": [
       "<div>\n",
       "<style scoped>\n",
       "    .dataframe tbody tr th:only-of-type {\n",
       "        vertical-align: middle;\n",
       "    }\n",
       "\n",
       "    .dataframe tbody tr th {\n",
       "        vertical-align: top;\n",
       "    }\n",
       "\n",
       "    .dataframe thead th {\n",
       "        text-align: right;\n",
       "    }\n",
       "</style>\n",
       "<table border=\"1\" class=\"dataframe\">\n",
       "  <thead>\n",
       "    <tr style=\"text-align: right;\">\n",
       "      <th></th>\n",
       "      <th>body</th>\n",
       "      <th>head</th>\n",
       "      <th>Rule</th>\n",
       "      <th>Head Coverage</th>\n",
       "      <th>Std Confidence</th>\n",
       "      <th>PCA Confidence</th>\n",
       "      <th>Positive Examples</th>\n",
       "      <th>Body size</th>\n",
       "      <th>PCA Body size</th>\n",
       "      <th>Functional variable</th>\n",
       "      <th>Std. Lower Bound</th>\n",
       "      <th>PCA Lower Bound</th>\n",
       "      <th>PCA Conf estimation</th>\n",
       "      <th>Metarule</th>\n",
       "      <th>head relation</th>\n",
       "      <th>length</th>\n",
       "      <th>classification</th>\n",
       "    </tr>\n",
       "  </thead>\n",
       "  <tbody>\n",
       "    <tr>\n",
       "      <th>0</th>\n",
       "      <td>?a  &lt;hasCheckin&gt;  ?n  ?g  &lt;hasCheckin&gt;  ?n  ?g  &lt;hasDayOfTheWeek&gt;  ?b</td>\n",
       "      <td>?a  &lt;hasDayOfTheWeek&gt;  ?b</td>\n",
       "      <td>?a  &lt;hasCheckin&gt;  ?n  ?g  &lt;hasCheckin&gt;  ?n  ?g  &lt;hasDayOfTheWeek&gt;  ?b   =&gt; ?a  &lt;hasDayOfTheWeek&gt;  ?b</td>\n",
       "      <td>1.0</td>\n",
       "      <td>1.0</td>\n",
       "      <td>1.0</td>\n",
       "      <td>4557</td>\n",
       "      <td>4557</td>\n",
       "      <td>4557</td>\n",
       "      <td>?a</td>\n",
       "      <td>0.0</td>\n",
       "      <td>0.0</td>\n",
       "      <td>651.000000</td>\n",
       "      <td>?a  &lt;hasCheckin&gt;  ?n  ?g  &lt;hasCheckin&gt;  ?n  ?g  &lt;hasDayOfTheWeek&gt;  ?b   =&gt; ?a  &lt;hasDayOfTheWeek&gt;  ?b</td>\n",
       "      <td>&lt;hasDayOfTheWeek&gt;</td>\n",
       "      <td>4</td>\n",
       "      <td>should not happen</td>\n",
       "    </tr>\n",
       "    <tr>\n",
       "      <th>1</th>\n",
       "      <td>?a  &lt;hasCheckin&gt;  ?n  ?g  &lt;hasCheckin&gt;  ?n  ?g  &lt;hasTrajectoryCategory&gt;  ?b</td>\n",
       "      <td>?a  &lt;hasTrajectoryCategory&gt;  ?b</td>\n",
       "      <td>?a  &lt;hasCheckin&gt;  ?n  ?g  &lt;hasCheckin&gt;  ?n  ?g  &lt;hasTrajectoryCategory&gt;  ?b   =&gt; ?a  &lt;hasTrajectoryCategory&gt;  ?b</td>\n",
       "      <td>1.0</td>\n",
       "      <td>1.0</td>\n",
       "      <td>1.0</td>\n",
       "      <td>4675</td>\n",
       "      <td>4675</td>\n",
       "      <td>4675</td>\n",
       "      <td>?a</td>\n",
       "      <td>0.0</td>\n",
       "      <td>0.0</td>\n",
       "      <td>1558.333333</td>\n",
       "      <td>?a  &lt;hasCheckin&gt;  ?n  ?g  &lt;hasCheckin&gt;  ?n  ?g  &lt;hasTrajectoryCategory&gt;  ?b   =&gt; ?a  &lt;hasTrajectoryCategory&gt;  ?b</td>\n",
       "      <td>&lt;hasTrajectoryCategory&gt;</td>\n",
       "      <td>4</td>\n",
       "      <td>should not happen</td>\n",
       "    </tr>\n",
       "    <tr>\n",
       "      <th>2</th>\n",
       "      <td>?b  &lt;hasCheckin&gt;  ?n  ?h  &lt;hasCheckin&gt;  ?n  ?a  &lt;hasTrajectory&gt;  ?h</td>\n",
       "      <td>?a  &lt;hasTrajectory&gt;  ?b</td>\n",
       "      <td>?b  &lt;hasCheckin&gt;  ?n  ?h  &lt;hasCheckin&gt;  ?n  ?a  &lt;hasTrajectory&gt;  ?h   =&gt; ?a  &lt;hasTrajectory&gt;  ?b</td>\n",
       "      <td>1.0</td>\n",
       "      <td>1.0</td>\n",
       "      <td>1.0</td>\n",
       "      <td>4557</td>\n",
       "      <td>4557</td>\n",
       "      <td>4557</td>\n",
       "      <td>?b</td>\n",
       "      <td>0.0</td>\n",
       "      <td>0.0</td>\n",
       "      <td>28.841772</td>\n",
       "      <td>?b  &lt;hasCheckin&gt;  ?n  ?h  &lt;hasCheckin&gt;  ?n  ?a  &lt;hasTrajectory&gt;  ?h   =&gt; ?a  &lt;hasTrajectory&gt;  ?b</td>\n",
       "      <td>&lt;hasTrajectory&gt;</td>\n",
       "      <td>4</td>\n",
       "      <td>should not happen</td>\n",
       "    </tr>\n",
       "    <tr>\n",
       "      <th>3</th>\n",
       "      <td>?a  &lt;hasCheckin&gt;  ?n  ?g  &lt;hasCheckin&gt;  ?n  ?g  &lt;hasMonth&gt;  ?b</td>\n",
       "      <td>?a  &lt;hasMonth&gt;  ?b</td>\n",
       "      <td>?a  &lt;hasCheckin&gt;  ?n  ?g  &lt;hasCheckin&gt;  ?n  ?g  &lt;hasMonth&gt;  ?b   =&gt; ?a  &lt;hasMonth&gt;  ?b</td>\n",
       "      <td>1.0</td>\n",
       "      <td>1.0</td>\n",
       "      <td>1.0</td>\n",
       "      <td>4557</td>\n",
       "      <td>4557</td>\n",
       "      <td>4557</td>\n",
       "      <td>?a</td>\n",
       "      <td>0.0</td>\n",
       "      <td>0.0</td>\n",
       "      <td>414.272727</td>\n",
       "      <td>?a  &lt;hasCheckin&gt;  ?n  ?g  &lt;hasCheckin&gt;  ?n  ?g  &lt;hasMonth&gt;  ?b   =&gt; ?a  &lt;hasMonth&gt;  ?b</td>\n",
       "      <td>&lt;hasMonth&gt;</td>\n",
       "      <td>4</td>\n",
       "      <td>should not happen</td>\n",
       "    </tr>\n",
       "    <tr>\n",
       "      <th>4</th>\n",
       "      <td>?m  &lt;hasPOI&gt;  ?a  ?m  &lt;hasPOI&gt;  ?g  ?g  &lt;hasPOICategory&gt;  ?b</td>\n",
       "      <td>?a  &lt;hasPOICategory&gt;  ?b</td>\n",
       "      <td>?m  &lt;hasPOI&gt;  ?a  ?m  &lt;hasPOI&gt;  ?g  ?g  &lt;hasPOICategory&gt;  ?b   =&gt; ?a  &lt;hasPOICategory&gt;  ?b</td>\n",
       "      <td>1.0</td>\n",
       "      <td>1.0</td>\n",
       "      <td>1.0</td>\n",
       "      <td>4387</td>\n",
       "      <td>4387</td>\n",
       "      <td>4387</td>\n",
       "      <td>?a</td>\n",
       "      <td>0.0</td>\n",
       "      <td>0.0</td>\n",
       "      <td>487.444444</td>\n",
       "      <td>?m  &lt;hasPOI&gt;  ?a  ?m  &lt;hasPOI&gt;  ?g  ?g  &lt;hasPOICategory&gt;  ?b   =&gt; ?a  &lt;hasPOICategory&gt;  ?b</td>\n",
       "      <td>&lt;hasPOICategory&gt;</td>\n",
       "      <td>4</td>\n",
       "      <td>should not happen</td>\n",
       "    </tr>\n",
       "  </tbody>\n",
       "</table>\n",
       "</div>"
      ],
      "text/plain": [
       "                                                                             body  \\\n",
       "0        ?a  <hasCheckin>  ?n  ?g  <hasCheckin>  ?n  ?g  <hasDayOfTheWeek>  ?b      \n",
       "1  ?a  <hasCheckin>  ?n  ?g  <hasCheckin>  ?n  ?g  <hasTrajectoryCategory>  ?b      \n",
       "2          ?b  <hasCheckin>  ?n  ?h  <hasCheckin>  ?n  ?a  <hasTrajectory>  ?h      \n",
       "3               ?a  <hasCheckin>  ?n  ?g  <hasCheckin>  ?n  ?g  <hasMonth>  ?b      \n",
       "4                 ?m  <hasPOI>  ?a  ?m  <hasPOI>  ?g  ?g  <hasPOICategory>  ?b      \n",
       "\n",
       "                               head  \\\n",
       "0         ?a  <hasDayOfTheWeek>  ?b   \n",
       "1   ?a  <hasTrajectoryCategory>  ?b   \n",
       "2           ?a  <hasTrajectory>  ?b   \n",
       "3                ?a  <hasMonth>  ?b   \n",
       "4          ?a  <hasPOICategory>  ?b   \n",
       "\n",
       "                                                                                                               Rule  \\\n",
       "0              ?a  <hasCheckin>  ?n  ?g  <hasCheckin>  ?n  ?g  <hasDayOfTheWeek>  ?b   => ?a  <hasDayOfTheWeek>  ?b   \n",
       "1  ?a  <hasCheckin>  ?n  ?g  <hasCheckin>  ?n  ?g  <hasTrajectoryCategory>  ?b   => ?a  <hasTrajectoryCategory>  ?b   \n",
       "2                  ?b  <hasCheckin>  ?n  ?h  <hasCheckin>  ?n  ?a  <hasTrajectory>  ?h   => ?a  <hasTrajectory>  ?b   \n",
       "3                            ?a  <hasCheckin>  ?n  ?g  <hasCheckin>  ?n  ?g  <hasMonth>  ?b   => ?a  <hasMonth>  ?b   \n",
       "4                        ?m  <hasPOI>  ?a  ?m  <hasPOI>  ?g  ?g  <hasPOICategory>  ?b   => ?a  <hasPOICategory>  ?b   \n",
       "\n",
       "   Head Coverage  Std Confidence  PCA Confidence  Positive Examples  \\\n",
       "0            1.0             1.0             1.0               4557   \n",
       "1            1.0             1.0             1.0               4675   \n",
       "2            1.0             1.0             1.0               4557   \n",
       "3            1.0             1.0             1.0               4557   \n",
       "4            1.0             1.0             1.0               4387   \n",
       "\n",
       "   Body size  PCA Body size Functional variable  Std. Lower Bound  \\\n",
       "0       4557           4557                  ?a               0.0   \n",
       "1       4675           4675                  ?a               0.0   \n",
       "2       4557           4557                  ?b               0.0   \n",
       "3       4557           4557                  ?a               0.0   \n",
       "4       4387           4387                  ?a               0.0   \n",
       "\n",
       "   PCA Lower Bound  PCA Conf estimation  \\\n",
       "0              0.0           651.000000   \n",
       "1              0.0          1558.333333   \n",
       "2              0.0            28.841772   \n",
       "3              0.0           414.272727   \n",
       "4              0.0           487.444444   \n",
       "\n",
       "                                                                                                           Metarule  \\\n",
       "0              ?a  <hasCheckin>  ?n  ?g  <hasCheckin>  ?n  ?g  <hasDayOfTheWeek>  ?b   => ?a  <hasDayOfTheWeek>  ?b   \n",
       "1  ?a  <hasCheckin>  ?n  ?g  <hasCheckin>  ?n  ?g  <hasTrajectoryCategory>  ?b   => ?a  <hasTrajectoryCategory>  ?b   \n",
       "2                  ?b  <hasCheckin>  ?n  ?h  <hasCheckin>  ?n  ?a  <hasTrajectory>  ?h   => ?a  <hasTrajectory>  ?b   \n",
       "3                            ?a  <hasCheckin>  ?n  ?g  <hasCheckin>  ?n  ?g  <hasMonth>  ?b   => ?a  <hasMonth>  ?b   \n",
       "4                        ?m  <hasPOI>  ?a  ?m  <hasPOI>  ?g  ?g  <hasPOICategory>  ?b   => ?a  <hasPOICategory>  ?b   \n",
       "\n",
       "             head relation  length     classification  \n",
       "0        <hasDayOfTheWeek>       4  should not happen  \n",
       "1  <hasTrajectoryCategory>       4  should not happen  \n",
       "2          <hasTrajectory>       4  should not happen  \n",
       "3               <hasMonth>       4  should not happen  \n",
       "4         <hasPOICategory>       4  should not happen  "
      ]
     },
     "execution_count": 8,
     "metadata": {},
     "output_type": "execute_result"
    }
   ],
   "source": [
    "ra_no_before.df.head()"
   ]
  }
 ],
 "metadata": {
  "kernelspec": {
   "display_name": "Python 3",
   "language": "python",
   "name": "python3"
  },
  "language_info": {
   "codemirror_mode": {
    "name": "ipython",
    "version": 3
   },
   "file_extension": ".py",
   "mimetype": "text/x-python",
   "name": "python",
   "nbconvert_exporter": "python",
   "pygments_lexer": "ipython3",
   "version": "3.8.3"
  }
 },
 "nbformat": 4,
 "nbformat_minor": 4
}
